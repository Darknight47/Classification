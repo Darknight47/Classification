{
 "cells": [
  {
   "cell_type": "markdown",
   "metadata": {},
   "source": [
    "## Logistic Regression\n",
    "$$\\log\\left(\\frac{p}{1-p}\\right) = \\beta_0 + \\beta_1x_1 + \\beta_2x_2 + ... + \\beta_nx_n$$  \n",
    "* (p) is the probability of the positive class!  \n",
    "* B0, ..., Bn are the regression coefficients!  \n",
    "* x1, ..., xn are the feature variables!  "
   ]
  },
  {
   "cell_type": "markdown",
   "metadata": {},
   "source": [
    "### Main Question\n",
    "\n",
    "> **Which of the previous customers will buy a brand new car?**  \n",
    "\n",
    "Once we predict that a customer wants to buy a brand new car, the advertisement team will post ads of this brand new car on social media and these ads will  \n",
    "be targeted to customers where we predict they are going to buy the brand new car! "
   ]
  }
 ],
 "metadata": {
  "language_info": {
   "name": "python"
  }
 },
 "nbformat": 4,
 "nbformat_minor": 2
}
