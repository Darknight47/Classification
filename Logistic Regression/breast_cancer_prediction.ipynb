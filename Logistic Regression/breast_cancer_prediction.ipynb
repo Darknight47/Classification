{
 "cells": [
  {
   "cell_type": "markdown",
   "metadata": {},
   "source": [
    "## Logistic Regression\n",
    "$$\\log\\left(\\frac{p}{1-p}\\right) = \\beta_0 + \\beta_1x_1 + \\beta_2x_2 + ... + \\beta_nx_n$$  \n",
    "* (p) is the probability of the positive class!  \n",
    "* B0, ..., Bn are the regression coefficients!  \n",
    "* x1, ..., xn are the feature variables!  "
   ]
  },
  {
   "cell_type": "markdown",
   "metadata": {},
   "source": [
    "## Main Task\n",
    "> Predicting if a patient has breast cancer or not, more specifically if a patient is in *benign or not-cancer condition (2)* **OR** the patient is in *malignant or has cancer (4)*."
   ]
  },
  {
   "cell_type": "markdown",
   "metadata": {},
   "source": [
    "### Data Understanding  \n",
    "\n",
    "**1.0. What is the domain area of the dataset?**  \n",
    "The dataset *breast-cancer-wisconsin.csv* contains information about different patients that either have cancer or not. The dataset is collected by Dr. WIlliam H. Wolberg (physician), University of Wisconsin Hospitals, Madison, Wisconsin, USA.\n",
    "\n",
    "**2.0. Which data format?**  \n",
    "The dataset is in *csv* format!  \n",
    "\n",
    "**2.1. Do the files have headers or another file describing the data?**  \n",
    "The files does have headers that describes the data! Each column has a name that describes the data it contains!  \n",
    "\n",
    "**2.2. Are the data values separated by commas, semicolon, or tabs?**  \n",
    "The data values are separated by commas!  \n",
    "Example: \n",
    "*id,clumpthickness,uniformcellsize,uniformcellshape,margadhesion,epithelial,barenuclei,blandchromatin,normalnucleoli,mitoses,benormal*\n",
    "*1000025,5,1,1,1,2,1,3,1,1,2*\n",
    "\n",
    "**3.0 How many features and how many observations does the dataset have?**  \n",
    "The dataset has:  \n",
    "* 11 features or columns!\n",
    "* 691 observations or rows!  \n",
    "\n",
    "**4.0 Does it contain numerical features? How many?**  \n",
    "Yes it contains 11 numerical features!  \n",
    "\n",
    "**5.0. Does it contain categorical features?  How many?**  \n",
    "Yes it contains 1 categorical features! (The target class has *2* or *4* values.)  "
   ]
  }
 ],
 "metadata": {
  "language_info": {
   "name": "python"
  }
 },
 "nbformat": 4,
 "nbformat_minor": 2
}
